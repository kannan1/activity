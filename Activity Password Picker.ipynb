{
 "cells": [
  {
   "cell_type": "code",
   "execution_count": 1,
   "id": "afc089fe",
   "metadata": {},
   "outputs": [],
   "source": [
    "import random"
   ]
  },
  {
   "cell_type": "code",
   "execution_count": 3,
   "id": "47abaf30",
   "metadata": {},
   "outputs": [],
   "source": [
    "adjective=['able','bad','best','better','big','black','certain','clear','different','early','easy','economic','federal','free','full','good','great','hard','high','human','important','large','late','little','local','long','low','major','military','national','new','old','possible','public','real','recent','right','small','strong','sure','true','whole','young']\n",
    "noun=['area','book','company','country','eye','family','group','hand','home','man','money','month','mother','night','number','part','people','place','point','problem','program','question','light','room','school','state','story','student','study','system','thing','time','water','way','week','woman','word','work','world','year']\n",
    "punctuation=['.','?','!',',',':',':','-','()','[]','{}']"
   ]
  },
  {
   "cell_type": "code",
   "execution_count": 5,
   "id": "73390e78",
   "metadata": {},
   "outputs": [
    {
     "name": "stdout",
     "output_type": "stream",
     "text": [
      "public money 62 -\n"
     ]
    }
   ],
   "source": [
    "print(random.choice(adjective),random.choice(noun),random.choice(range(0,100)),random.choice(punctuation))"
   ]
  },
  {
   "cell_type": "code",
   "execution_count": null,
   "id": "4aeb4504",
   "metadata": {},
   "outputs": [],
   "source": []
  }
 ],
 "metadata": {
  "kernelspec": {
   "display_name": "Python 3",
   "language": "python",
   "name": "python3"
  },
  "language_info": {
   "codemirror_mode": {
    "name": "ipython",
    "version": 3
   },
   "file_extension": ".py",
   "mimetype": "text/x-python",
   "name": "python",
   "nbconvert_exporter": "python",
   "pygments_lexer": "ipython3",
   "version": "3.8.8"
  }
 },
 "nbformat": 4,
 "nbformat_minor": 5
}
